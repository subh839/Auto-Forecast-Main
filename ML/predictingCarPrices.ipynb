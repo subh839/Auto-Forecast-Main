{
  "cells": [
    {
      "cell_type": "markdown",
      "metadata": {
        "colab_type": "text",
        "id": "o6o0KJHB-XG5"
      },
      "source": [
        "# Predicting Used Car Prices"
      ]
    },
    {
      "cell_type": "code",
      "execution_count": 300,
      "metadata": {
        "_cell_guid": "b1076dfc-b9ad-4769-8c92-a6c4dae69d19",
        "_uuid": "8f2839f25d086af736a60e9eeb907d3b93b6e0e5",
        "colab": {},
        "colab_type": "code",
        "id": "n5WpRS2X-XG6",
        "trusted": true
      },
      "outputs": [],
      "source": [
        "import numpy as np \n",
        "import pandas as pd\n",
        "import matplotlib.pyplot as plt"
      ]
    },
    {
      "cell_type": "markdown",
      "metadata": {
        "colab_type": "text",
        "id": "DbDjuuJg-XHA"
      },
      "source": [
        "### Importing libraries"
      ]
    },
    {
      "cell_type": "code",
      "execution_count": 301,
      "metadata": {
        "_cell_guid": "79c7e3d0-c299-4dcb-8224-4455121ee9b0",
        "_uuid": "d629ff2d2480ee46fbb7e2d37f6b5fab8052498a",
        "colab": {},
        "colab_type": "code",
        "id": "lmdPEil7-XHA",
        "trusted": true
      },
      "outputs": [],
      "source": [
        "import numpy as np\n",
        "import pandas as pd"
      ]
    },
    {
      "cell_type": "markdown",
      "metadata": {
        "colab_type": "text",
        "id": "ttYXIzzx-XHD"
      },
      "source": [
        "### Fetching Datasets"
      ]
    },
    {
      "cell_type": "code",
      "execution_count": 302,
      "metadata": {
        "colab": {},
        "colab_type": "code",
        "id": "EWmCl0ye-XHE",
        "trusted": true
      },
      "outputs": [],
      "source": [
        "train = pd.read_csv(\"Data_Train.csv\")\n",
        "test = pd.read_csv(\"Data_Test.csv\")"
      ]
    },
    {
      "cell_type": "markdown",
      "metadata": {
        "colab_type": "text",
        "id": "8_JMrMcB-XHH"
      },
      "source": [
        "## Data Exploration"
      ]
    },
    {
      "cell_type": "code",
      "execution_count": 303,
      "metadata": {
        "colab": {},
        "colab_type": "code",
        "id": "fabKvtO3-XHI",
        "outputId": "fe723885-ae25-4268-c1c0-669032642e49",
        "trusted": true
      },
      "outputs": [
        {
          "data": {
            "text/html": [
              "<div>\n",
              "<style scoped>\n",
              "    .dataframe tbody tr th:only-of-type {\n",
              "        vertical-align: middle;\n",
              "    }\n",
              "\n",
              "    .dataframe tbody tr th {\n",
              "        vertical-align: top;\n",
              "    }\n",
              "\n",
              "    .dataframe thead th {\n",
              "        text-align: right;\n",
              "    }\n",
              "</style>\n",
              "<table border=\"1\" class=\"dataframe\">\n",
              "  <thead>\n",
              "    <tr style=\"text-align: right;\">\n",
              "      <th></th>\n",
              "      <th>Name</th>\n",
              "      <th>Location</th>\n",
              "      <th>Year</th>\n",
              "      <th>Kilometers_Driven</th>\n",
              "      <th>Fuel_Type</th>\n",
              "      <th>Transmission</th>\n",
              "      <th>Owner_Type</th>\n",
              "      <th>Mileage</th>\n",
              "      <th>Engine</th>\n",
              "      <th>Power</th>\n",
              "      <th>Seats</th>\n",
              "      <th>Price</th>\n",
              "    </tr>\n",
              "  </thead>\n",
              "  <tbody>\n",
              "    <tr>\n",
              "      <th>0</th>\n",
              "      <td>Maruti Wagon R LXI CNG</td>\n",
              "      <td>Mumbai</td>\n",
              "      <td>2010</td>\n",
              "      <td>72000</td>\n",
              "      <td>CNG</td>\n",
              "      <td>Manual</td>\n",
              "      <td>First</td>\n",
              "      <td>26.6 km/kg</td>\n",
              "      <td>998 CC</td>\n",
              "      <td>58.16 bhp</td>\n",
              "      <td>5.0</td>\n",
              "      <td>1.75</td>\n",
              "    </tr>\n",
              "    <tr>\n",
              "      <th>1</th>\n",
              "      <td>Hyundai Creta 1.6 CRDi SX Option</td>\n",
              "      <td>Pune</td>\n",
              "      <td>2015</td>\n",
              "      <td>41000</td>\n",
              "      <td>Diesel</td>\n",
              "      <td>Manual</td>\n",
              "      <td>First</td>\n",
              "      <td>19.67 kmpl</td>\n",
              "      <td>1582 CC</td>\n",
              "      <td>126.2 bhp</td>\n",
              "      <td>5.0</td>\n",
              "      <td>12.50</td>\n",
              "    </tr>\n",
              "    <tr>\n",
              "      <th>2</th>\n",
              "      <td>Honda Jazz V</td>\n",
              "      <td>Chennai</td>\n",
              "      <td>2011</td>\n",
              "      <td>46000</td>\n",
              "      <td>Petrol</td>\n",
              "      <td>Manual</td>\n",
              "      <td>First</td>\n",
              "      <td>18.2 kmpl</td>\n",
              "      <td>1199 CC</td>\n",
              "      <td>88.7 bhp</td>\n",
              "      <td>5.0</td>\n",
              "      <td>4.50</td>\n",
              "    </tr>\n",
              "    <tr>\n",
              "      <th>3</th>\n",
              "      <td>Maruti Ertiga VDI</td>\n",
              "      <td>Chennai</td>\n",
              "      <td>2012</td>\n",
              "      <td>87000</td>\n",
              "      <td>Diesel</td>\n",
              "      <td>Manual</td>\n",
              "      <td>First</td>\n",
              "      <td>20.77 kmpl</td>\n",
              "      <td>1248 CC</td>\n",
              "      <td>88.76 bhp</td>\n",
              "      <td>7.0</td>\n",
              "      <td>6.00</td>\n",
              "    </tr>\n",
              "    <tr>\n",
              "      <th>4</th>\n",
              "      <td>Audi A4 New 2.0 TDI Multitronic</td>\n",
              "      <td>Coimbatore</td>\n",
              "      <td>2013</td>\n",
              "      <td>40670</td>\n",
              "      <td>Diesel</td>\n",
              "      <td>Automatic</td>\n",
              "      <td>Second</td>\n",
              "      <td>15.2 kmpl</td>\n",
              "      <td>1968 CC</td>\n",
              "      <td>140.8 bhp</td>\n",
              "      <td>5.0</td>\n",
              "      <td>17.74</td>\n",
              "    </tr>\n",
              "  </tbody>\n",
              "</table>\n",
              "</div>"
            ],
            "text/plain": [
              "                               Name    Location  Year  Kilometers_Driven  \\\n",
              "0            Maruti Wagon R LXI CNG      Mumbai  2010              72000   \n",
              "1  Hyundai Creta 1.6 CRDi SX Option        Pune  2015              41000   \n",
              "2                      Honda Jazz V     Chennai  2011              46000   \n",
              "3                 Maruti Ertiga VDI     Chennai  2012              87000   \n",
              "4   Audi A4 New 2.0 TDI Multitronic  Coimbatore  2013              40670   \n",
              "\n",
              "  Fuel_Type Transmission Owner_Type     Mileage   Engine      Power  Seats  \\\n",
              "0       CNG       Manual      First  26.6 km/kg   998 CC  58.16 bhp    5.0   \n",
              "1    Diesel       Manual      First  19.67 kmpl  1582 CC  126.2 bhp    5.0   \n",
              "2    Petrol       Manual      First   18.2 kmpl  1199 CC   88.7 bhp    5.0   \n",
              "3    Diesel       Manual      First  20.77 kmpl  1248 CC  88.76 bhp    7.0   \n",
              "4    Diesel    Automatic     Second   15.2 kmpl  1968 CC  140.8 bhp    5.0   \n",
              "\n",
              "   Price  \n",
              "0   1.75  \n",
              "1  12.50  \n",
              "2   4.50  \n",
              "3   6.00  \n",
              "4  17.74  "
            ]
          },
          "execution_count": 303,
          "metadata": {},
          "output_type": "execute_result"
        }
      ],
      "source": [
        "train.head()"
      ]
    },
    {
      "cell_type": "code",
      "execution_count": 304,
      "metadata": {
        "colab": {},
        "colab_type": "code",
        "id": "oKsJxCXk-XHL",
        "outputId": "7eb3ee67-7758-4f51-f9cf-a2327bbe2079",
        "trusted": true
      },
      "outputs": [
        {
          "data": {
            "text/plain": [
              "(6019, 12)"
            ]
          },
          "execution_count": 304,
          "metadata": {},
          "output_type": "execute_result"
        }
      ],
      "source": [
        "train.shape"
      ]
    },
    {
      "cell_type": "code",
      "execution_count": 305,
      "metadata": {
        "colab": {},
        "colab_type": "code",
        "id": "7Pyvebxk-XHO",
        "outputId": "46141d27-7520-4b03-f64a-8adf623e9c00",
        "trusted": true
      },
      "outputs": [
        {
          "name": "stdout",
          "output_type": "stream",
          "text": [
            "<class 'pandas.core.frame.DataFrame'>\n",
            "RangeIndex: 6019 entries, 0 to 6018\n",
            "Data columns (total 12 columns):\n",
            " #   Column             Non-Null Count  Dtype  \n",
            "---  ------             --------------  -----  \n",
            " 0   Name               6019 non-null   object \n",
            " 1   Location           6019 non-null   object \n",
            " 2   Year               6019 non-null   int64  \n",
            " 3   Kilometers_Driven  6019 non-null   int64  \n",
            " 4   Fuel_Type          6019 non-null   object \n",
            " 5   Transmission       6019 non-null   object \n",
            " 6   Owner_Type         6019 non-null   object \n",
            " 7   Mileage            6017 non-null   object \n",
            " 8   Engine             5983 non-null   object \n",
            " 9   Power              5983 non-null   object \n",
            " 10  Seats              5977 non-null   float64\n",
            " 11  Price              6019 non-null   float64\n",
            "dtypes: float64(2), int64(2), object(8)\n",
            "memory usage: 564.4+ KB\n"
          ]
        }
      ],
      "source": [
        "train.info()"
      ]
    },
    {
      "cell_type": "code",
      "execution_count": 306,
      "metadata": {
        "colab": {},
        "colab_type": "code",
        "id": "dYNHLuV0-XHS",
        "outputId": "f8f27677-e423-49ec-af73-c0dbd167ad99",
        "trusted": true
      },
      "outputs": [
        {
          "data": {
            "text/plain": [
              "Name                 1876\n",
              "Location               11\n",
              "Year                   22\n",
              "Kilometers_Driven    3093\n",
              "Fuel_Type               5\n",
              "Transmission            2\n",
              "Owner_Type              4\n",
              "Mileage               442\n",
              "Engine                146\n",
              "Power                 372\n",
              "Seats                   9\n",
              "Price                1373\n",
              "dtype: int64"
            ]
          },
          "execution_count": 306,
          "metadata": {},
          "output_type": "execute_result"
        }
      ],
      "source": [
        "train.nunique()"
      ]
    },
    {
      "cell_type": "code",
      "execution_count": 307,
      "metadata": {
        "colab": {},
        "colab_type": "code",
        "id": "-LuD7V8c-XHV",
        "outputId": "a1646fbb-0509-49e0-f473-8883d425615d",
        "trusted": true
      },
      "outputs": [
        {
          "data": {
            "text/plain": [
              "Name                  0\n",
              "Location              0\n",
              "Year                  0\n",
              "Kilometers_Driven     0\n",
              "Fuel_Type             0\n",
              "Transmission          0\n",
              "Owner_Type            0\n",
              "Mileage               2\n",
              "Engine               36\n",
              "Power                36\n",
              "Seats                42\n",
              "Price                 0\n",
              "dtype: int64"
            ]
          },
          "execution_count": 307,
          "metadata": {},
          "output_type": "execute_result"
        }
      ],
      "source": [
        "train.isnull().sum()"
      ]
    },
    {
      "cell_type": "markdown",
      "metadata": {
        "colab_type": "text",
        "id": "-OfAChOH-XHX"
      },
      "source": [
        "#### The columns Mileage, Engine, Power, Seats have null values"
      ]
    },
    {
      "cell_type": "markdown",
      "metadata": {
        "colab_type": "text",
        "id": "gIVeN2Cv-XHX"
      },
      "source": [
        "## Data Pre-processing "
      ]
    },
    {
      "cell_type": "markdown",
      "metadata": {
        "colab_type": "text",
        "id": "4Rqd_1Tj-XHY"
      },
      "source": [
        "### Removing Outliers from the Data"
      ]
    },
    {
      "cell_type": "code",
      "execution_count": 308,
      "metadata": {
        "colab": {},
        "colab_type": "code",
        "id": "ucCKa1gN-XHZ",
        "outputId": "10b73f24-17a4-4679-e64b-31f6149ff7af",
        "trusted": true
      },
      "outputs": [
        {
          "data": {
            "text/plain": [
              "(6019, 12)"
            ]
          },
          "execution_count": 308,
          "metadata": {},
          "output_type": "execute_result"
        }
      ],
      "source": [
        "train.shape"
      ]
    },
    {
      "cell_type": "code",
      "execution_count": 309,
      "metadata": {
        "colab": {},
        "colab_type": "code",
        "id": "Syh_NZ8Z-XHc",
        "outputId": "dff4c1e0-981b-4811-e575-4d394585192e",
        "trusted": true
      },
      "outputs": [
        {
          "data": {
            "text/plain": [
              "Fuel_Type\n",
              "Diesel      3205\n",
              "Petrol      2746\n",
              "CNG           56\n",
              "LPG           10\n",
              "Electric       2\n",
              "Name: count, dtype: int64"
            ]
          },
          "execution_count": 309,
          "metadata": {},
          "output_type": "execute_result"
        }
      ],
      "source": [
        "train.Fuel_Type.value_counts()"
      ]
    },
    {
      "cell_type": "markdown",
      "metadata": {
        "colab_type": "text",
        "id": "n1ejOsTm-XHf"
      },
      "source": [
        "#### Removing the outliers in Fuel_Type"
      ]
    },
    {
      "cell_type": "code",
      "execution_count": 310,
      "metadata": {
        "colab": {},
        "colab_type": "code",
        "id": "9V2etwL8-XHg",
        "outputId": "bde31ea5-02c7-4aae-ea44-6aaa466bc872",
        "trusted": true
      },
      "outputs": [
        {
          "data": {
            "text/plain": [
              "(6017, 12)"
            ]
          },
          "execution_count": 310,
          "metadata": {},
          "output_type": "execute_result"
        }
      ],
      "source": [
        "train = train[train['Fuel_Type'] != 'Electric']\n",
        "train.shape"
      ]
    },
    {
      "cell_type": "code",
      "execution_count": 311,
      "metadata": {
        "colab": {},
        "colab_type": "code",
        "id": "xjraXXCY-XHi",
        "outputId": "51a9a142-3c30-4307-f0bf-396a117a2429",
        "trusted": true
      },
      "outputs": [
        {
          "name": "stdout",
          "output_type": "stream",
          "text": [
            "171\n",
            "6500000\n"
          ]
        }
      ],
      "source": [
        "print(train.Kilometers_Driven.min())\n",
        "print(train.Kilometers_Driven.max())"
      ]
    },
    {
      "cell_type": "code",
      "execution_count": 312,
      "metadata": {
        "colab": {},
        "colab_type": "code",
        "id": "XG2IuVrZ-XHn",
        "outputId": "416f51d0-9384-403e-9380-6e8ac7201b6c",
        "trusted": true
      },
      "outputs": [
        {
          "name": "stdout",
          "output_type": "stream",
          "text": [
            "4\n",
            "2\n"
          ]
        }
      ],
      "source": [
        "print(len(train[train['Kilometers_Driven'] > 500000]))\n",
        "print(len(train[train['Kilometers_Driven'] < 1000]))"
      ]
    },
    {
      "cell_type": "markdown",
      "metadata": {
        "colab_type": "text",
        "id": "uVrZNQAI-XHq"
      },
      "source": [
        "#### Removing the outliers in Kilomerers_Driven"
      ]
    },
    {
      "cell_type": "code",
      "execution_count": 313,
      "metadata": {
        "colab": {},
        "colab_type": "code",
        "id": "z5vT-97p-XHq",
        "outputId": "773ce238-d712-4e49-e89d-ddee150472fc",
        "trusted": true
      },
      "outputs": [
        {
          "data": {
            "text/plain": [
              "(6002, 12)"
            ]
          },
          "execution_count": 313,
          "metadata": {},
          "output_type": "execute_result"
        }
      ],
      "source": [
        "train = train[train['Kilometers_Driven'] < 500000]\n",
        "train = train[train['Kilometers_Driven'] > 1000]\n",
        "train.shape\n"
      ]
    },
    {
      "cell_type": "markdown",
      "metadata": {
        "colab_type": "text",
        "id": "HBDViBBo-XHt"
      },
      "source": [
        "#### Modifying car names to group by brand"
      ]
    },
    {
      "cell_type": "code",
      "execution_count": 314,
      "metadata": {
        "colab": {},
        "colab_type": "code",
        "id": "3PXds0BV-XHw",
        "trusted": true
      },
      "outputs": [],
      "source": [
        "train.Name = train.Name.str.split().str.get(0)\n",
        "test.Name = test.Name.str.split().str.get(0)"
      ]
    },
    {
      "cell_type": "code",
      "execution_count": 315,
      "metadata": {
        "colab": {},
        "colab_type": "code",
        "id": "NeZpJgVC-XHy",
        "outputId": "d222cc14-e105-4edb-f5b4-ba89edac8857",
        "trusted": true
      },
      "outputs": [
        {
          "data": {
            "text/html": [
              "<div>\n",
              "<style scoped>\n",
              "    .dataframe tbody tr th:only-of-type {\n",
              "        vertical-align: middle;\n",
              "    }\n",
              "\n",
              "    .dataframe tbody tr th {\n",
              "        vertical-align: top;\n",
              "    }\n",
              "\n",
              "    .dataframe thead th {\n",
              "        text-align: right;\n",
              "    }\n",
              "</style>\n",
              "<table border=\"1\" class=\"dataframe\">\n",
              "  <thead>\n",
              "    <tr style=\"text-align: right;\">\n",
              "      <th></th>\n",
              "      <th>Name</th>\n",
              "      <th>Location</th>\n",
              "      <th>Year</th>\n",
              "      <th>Kilometers_Driven</th>\n",
              "      <th>Fuel_Type</th>\n",
              "      <th>Transmission</th>\n",
              "      <th>Owner_Type</th>\n",
              "      <th>Mileage</th>\n",
              "      <th>Engine</th>\n",
              "      <th>Power</th>\n",
              "      <th>Seats</th>\n",
              "      <th>Price</th>\n",
              "    </tr>\n",
              "  </thead>\n",
              "  <tbody>\n",
              "    <tr>\n",
              "      <th>0</th>\n",
              "      <td>Maruti</td>\n",
              "      <td>Mumbai</td>\n",
              "      <td>2010</td>\n",
              "      <td>72000</td>\n",
              "      <td>CNG</td>\n",
              "      <td>Manual</td>\n",
              "      <td>First</td>\n",
              "      <td>26.6 km/kg</td>\n",
              "      <td>998 CC</td>\n",
              "      <td>58.16 bhp</td>\n",
              "      <td>5.0</td>\n",
              "      <td>1.75</td>\n",
              "    </tr>\n",
              "    <tr>\n",
              "      <th>1</th>\n",
              "      <td>Hyundai</td>\n",
              "      <td>Pune</td>\n",
              "      <td>2015</td>\n",
              "      <td>41000</td>\n",
              "      <td>Diesel</td>\n",
              "      <td>Manual</td>\n",
              "      <td>First</td>\n",
              "      <td>19.67 kmpl</td>\n",
              "      <td>1582 CC</td>\n",
              "      <td>126.2 bhp</td>\n",
              "      <td>5.0</td>\n",
              "      <td>12.50</td>\n",
              "    </tr>\n",
              "    <tr>\n",
              "      <th>2</th>\n",
              "      <td>Honda</td>\n",
              "      <td>Chennai</td>\n",
              "      <td>2011</td>\n",
              "      <td>46000</td>\n",
              "      <td>Petrol</td>\n",
              "      <td>Manual</td>\n",
              "      <td>First</td>\n",
              "      <td>18.2 kmpl</td>\n",
              "      <td>1199 CC</td>\n",
              "      <td>88.7 bhp</td>\n",
              "      <td>5.0</td>\n",
              "      <td>4.50</td>\n",
              "    </tr>\n",
              "    <tr>\n",
              "      <th>3</th>\n",
              "      <td>Maruti</td>\n",
              "      <td>Chennai</td>\n",
              "      <td>2012</td>\n",
              "      <td>87000</td>\n",
              "      <td>Diesel</td>\n",
              "      <td>Manual</td>\n",
              "      <td>First</td>\n",
              "      <td>20.77 kmpl</td>\n",
              "      <td>1248 CC</td>\n",
              "      <td>88.76 bhp</td>\n",
              "      <td>7.0</td>\n",
              "      <td>6.00</td>\n",
              "    </tr>\n",
              "    <tr>\n",
              "      <th>4</th>\n",
              "      <td>Audi</td>\n",
              "      <td>Coimbatore</td>\n",
              "      <td>2013</td>\n",
              "      <td>40670</td>\n",
              "      <td>Diesel</td>\n",
              "      <td>Automatic</td>\n",
              "      <td>Second</td>\n",
              "      <td>15.2 kmpl</td>\n",
              "      <td>1968 CC</td>\n",
              "      <td>140.8 bhp</td>\n",
              "      <td>5.0</td>\n",
              "      <td>17.74</td>\n",
              "    </tr>\n",
              "  </tbody>\n",
              "</table>\n",
              "</div>"
            ],
            "text/plain": [
              "      Name    Location  Year  Kilometers_Driven Fuel_Type Transmission  \\\n",
              "0   Maruti      Mumbai  2010              72000       CNG       Manual   \n",
              "1  Hyundai        Pune  2015              41000    Diesel       Manual   \n",
              "2    Honda     Chennai  2011              46000    Petrol       Manual   \n",
              "3   Maruti     Chennai  2012              87000    Diesel       Manual   \n",
              "4     Audi  Coimbatore  2013              40670    Diesel    Automatic   \n",
              "\n",
              "  Owner_Type     Mileage   Engine      Power  Seats  Price  \n",
              "0      First  26.6 km/kg   998 CC  58.16 bhp    5.0   1.75  \n",
              "1      First  19.67 kmpl  1582 CC  126.2 bhp    5.0  12.50  \n",
              "2      First   18.2 kmpl  1199 CC   88.7 bhp    5.0   4.50  \n",
              "3      First  20.77 kmpl  1248 CC  88.76 bhp    7.0   6.00  \n",
              "4     Second   15.2 kmpl  1968 CC  140.8 bhp    5.0  17.74  "
            ]
          },
          "execution_count": 315,
          "metadata": {},
          "output_type": "execute_result"
        }
      ],
      "source": [
        "train.head()"
      ]
    },
    {
      "cell_type": "code",
      "execution_count": 316,
      "metadata": {
        "colab": {},
        "colab_type": "code",
        "id": "dPXDpbFG-XH1",
        "outputId": "289079e9-e343-439f-ecda-08cc64d096dc",
        "trusted": true
      },
      "outputs": [
        {
          "data": {
            "text/plain": [
              "Name\n",
              "Maruti           1208\n",
              "Hyundai          1104\n",
              "Honda             608\n",
              "Toyota            410\n",
              "Mercedes-Benz     318\n",
              "Volkswagen        313\n",
              "Ford              299\n",
              "Mahindra          271\n",
              "BMW               266\n",
              "Audi              236\n",
              "Tata              184\n",
              "Skoda             172\n",
              "Renault           144\n",
              "Chevrolet         121\n",
              "Nissan             91\n",
              "Land               60\n",
              "Jaguar             39\n",
              "Fiat               28\n",
              "Mitsubishi         27\n",
              "Mini               26\n",
              "Volvo              21\n",
              "Porsche            18\n",
              "Jeep               15\n",
              "Datsun             13\n",
              "Force               3\n",
              "ISUZU               2\n",
              "Smart               1\n",
              "Ambassador          1\n",
              "Isuzu               1\n",
              "Bentley             1\n",
              "Lamborghini         1\n",
              "Name: count, dtype: int64"
            ]
          },
          "execution_count": 316,
          "metadata": {},
          "output_type": "execute_result"
        }
      ],
      "source": [
        "train.Name.value_counts()"
      ]
    },
    {
      "cell_type": "markdown",
      "metadata": {
        "colab_type": "text",
        "id": "vZU6P2B_-XH3"
      },
      "source": [
        "#### Removing outliers in car brands"
      ]
    },
    {
      "cell_type": "code",
      "execution_count": 317,
      "metadata": {
        "colab": {},
        "colab_type": "code",
        "id": "7YWpSLU_-XH3",
        "trusted": true
      },
      "outputs": [],
      "source": [
        "train = train[train['Name'] != 'Force']\n",
        "train = train[train['Name'] != 'ISUZU']\n",
        "train = train[train['Name'] != 'Bentley']\n",
        "train = train[train['Name'] != 'Lamborghini']\n",
        "train = train[train['Name'] != 'Isuzu']\n",
        "train = train[train['Name'] != 'Smart']\n",
        "train = train[train['Name'] != 'Ambassador']"
      ]
    },
    {
      "cell_type": "code",
      "execution_count": 318,
      "metadata": {
        "colab": {},
        "colab_type": "code",
        "id": "8mOa7Cu--XH5",
        "outputId": "d7da6128-9487-426f-f33e-65f2eada8165",
        "trusted": true
      },
      "outputs": [
        {
          "data": {
            "text/plain": [
              "(5992, 12)"
            ]
          },
          "execution_count": 318,
          "metadata": {},
          "output_type": "execute_result"
        }
      ],
      "source": [
        "train.shape"
      ]
    },
    {
      "cell_type": "markdown",
      "metadata": {
        "colab_type": "text",
        "id": "6oQD7_M--XH8"
      },
      "source": [
        "#### Removing Outliers in Price"
      ]
    },
    {
      "cell_type": "code",
      "execution_count": 319,
      "metadata": {
        "colab": {},
        "colab_type": "code",
        "id": "Y6TTyiul-XH-",
        "outputId": "73065f5e-99b4-4fd7-fa0d-efa8de248789",
        "trusted": true
      },
      "outputs": [
        {
          "name": "stdout",
          "output_type": "stream",
          "text": [
            "0.44\n",
            "160.0\n"
          ]
        }
      ],
      "source": [
        "print(train.Price.min())\n",
        "print(train.Price.max())"
      ]
    },
    {
      "cell_type": "code",
      "execution_count": 320,
      "metadata": {
        "colab": {},
        "colab_type": "code",
        "id": "D3snCJ19-XIB",
        "outputId": "edb0c0ad-3afa-4ae5-fcf0-60de21b7aa8a",
        "trusted": true
      },
      "outputs": [
        {
          "data": {
            "text/plain": [
              "(5991, 12)"
            ]
          },
          "execution_count": 320,
          "metadata": {},
          "output_type": "execute_result"
        }
      ],
      "source": [
        "train = train[train.Price < 120]\n",
        "train.shape"
      ]
    },
    {
      "cell_type": "code",
      "execution_count": 321,
      "metadata": {
        "colab": {},
        "colab_type": "code",
        "id": "ame6cSHZ-XID",
        "outputId": "54032125-6042-4d05-f655-5a4a316d08e3",
        "trusted": true
      },
      "outputs": [
        {
          "data": {
            "text/plain": [
              "(5985, 12)"
            ]
          },
          "execution_count": 321,
          "metadata": {},
          "output_type": "execute_result"
        }
      ],
      "source": [
        "train = train[train.Price > 0.5]\n",
        "train.shape"
      ]
    },
    {
      "cell_type": "markdown",
      "metadata": {
        "colab_type": "text",
        "id": "tHFSZOq1-XIF"
      },
      "source": [
        "#### Converting Mileage, Engine and Power to numerical columns"
      ]
    },
    {
      "cell_type": "code",
      "execution_count": 322,
      "metadata": {
        "colab": {},
        "colab_type": "code",
        "id": "fV2om3R4-XIG",
        "trusted": true
      },
      "outputs": [],
      "source": [
        "train.Mileage = train.Mileage.str.split().str.get(0).astype('float')\n",
        "train.Engine = train.Engine.str.split().str.get(0).astype('int', errors='ignore')\n",
        "train.Power = train.Power.str.split().str.get(0).astype('float', errors='ignore')\n",
        "train.head()\n",
        "\n",
        "test.Mileage = test.Mileage.str.split().str.get(0).astype('float')\n",
        "test.Engine = test.Engine.str.split().str.get(0).astype('int', errors='ignore')\n",
        "test.Power = test.Power.str.split().str.get(0).astype('float', errors='ignore')"
      ]
    },
    {
      "cell_type": "markdown",
      "metadata": {
        "colab_type": "text",
        "id": "cy47Hcri-XII"
      },
      "source": [
        "#### Calculating age of the car from Year"
      ]
    },
    {
      "cell_type": "code",
      "execution_count": 323,
      "metadata": {
        "colab": {},
        "colab_type": "code",
        "id": "fOzoe__j-XII",
        "outputId": "db700aa5-36ca-455b-f176-38f4bf9c87f0",
        "trusted": true
      },
      "outputs": [
        {
          "data": {
            "text/html": [
              "<div>\n",
              "<style scoped>\n",
              "    .dataframe tbody tr th:only-of-type {\n",
              "        vertical-align: middle;\n",
              "    }\n",
              "\n",
              "    .dataframe tbody tr th {\n",
              "        vertical-align: top;\n",
              "    }\n",
              "\n",
              "    .dataframe thead th {\n",
              "        text-align: right;\n",
              "    }\n",
              "</style>\n",
              "<table border=\"1\" class=\"dataframe\">\n",
              "  <thead>\n",
              "    <tr style=\"text-align: right;\">\n",
              "      <th></th>\n",
              "      <th>Name</th>\n",
              "      <th>Location</th>\n",
              "      <th>Year</th>\n",
              "      <th>Kilometers_Driven</th>\n",
              "      <th>Fuel_Type</th>\n",
              "      <th>Transmission</th>\n",
              "      <th>Owner_Type</th>\n",
              "      <th>Mileage</th>\n",
              "      <th>Engine</th>\n",
              "      <th>Power</th>\n",
              "      <th>Seats</th>\n",
              "      <th>Price</th>\n",
              "      <th>Car_age</th>\n",
              "    </tr>\n",
              "  </thead>\n",
              "  <tbody>\n",
              "    <tr>\n",
              "      <th>0</th>\n",
              "      <td>Maruti</td>\n",
              "      <td>Mumbai</td>\n",
              "      <td>2010</td>\n",
              "      <td>72000</td>\n",
              "      <td>CNG</td>\n",
              "      <td>Manual</td>\n",
              "      <td>First</td>\n",
              "      <td>26.60</td>\n",
              "      <td>998</td>\n",
              "      <td>58.16</td>\n",
              "      <td>5.0</td>\n",
              "      <td>1.75</td>\n",
              "      <td>10</td>\n",
              "    </tr>\n",
              "    <tr>\n",
              "      <th>1</th>\n",
              "      <td>Hyundai</td>\n",
              "      <td>Pune</td>\n",
              "      <td>2015</td>\n",
              "      <td>41000</td>\n",
              "      <td>Diesel</td>\n",
              "      <td>Manual</td>\n",
              "      <td>First</td>\n",
              "      <td>19.67</td>\n",
              "      <td>1582</td>\n",
              "      <td>126.2</td>\n",
              "      <td>5.0</td>\n",
              "      <td>12.50</td>\n",
              "      <td>5</td>\n",
              "    </tr>\n",
              "    <tr>\n",
              "      <th>2</th>\n",
              "      <td>Honda</td>\n",
              "      <td>Chennai</td>\n",
              "      <td>2011</td>\n",
              "      <td>46000</td>\n",
              "      <td>Petrol</td>\n",
              "      <td>Manual</td>\n",
              "      <td>First</td>\n",
              "      <td>18.20</td>\n",
              "      <td>1199</td>\n",
              "      <td>88.7</td>\n",
              "      <td>5.0</td>\n",
              "      <td>4.50</td>\n",
              "      <td>9</td>\n",
              "    </tr>\n",
              "    <tr>\n",
              "      <th>3</th>\n",
              "      <td>Maruti</td>\n",
              "      <td>Chennai</td>\n",
              "      <td>2012</td>\n",
              "      <td>87000</td>\n",
              "      <td>Diesel</td>\n",
              "      <td>Manual</td>\n",
              "      <td>First</td>\n",
              "      <td>20.77</td>\n",
              "      <td>1248</td>\n",
              "      <td>88.76</td>\n",
              "      <td>7.0</td>\n",
              "      <td>6.00</td>\n",
              "      <td>8</td>\n",
              "    </tr>\n",
              "    <tr>\n",
              "      <th>4</th>\n",
              "      <td>Audi</td>\n",
              "      <td>Coimbatore</td>\n",
              "      <td>2013</td>\n",
              "      <td>40670</td>\n",
              "      <td>Diesel</td>\n",
              "      <td>Automatic</td>\n",
              "      <td>Second</td>\n",
              "      <td>15.20</td>\n",
              "      <td>1968</td>\n",
              "      <td>140.8</td>\n",
              "      <td>5.0</td>\n",
              "      <td>17.74</td>\n",
              "      <td>7</td>\n",
              "    </tr>\n",
              "  </tbody>\n",
              "</table>\n",
              "</div>"
            ],
            "text/plain": [
              "      Name    Location  Year  Kilometers_Driven Fuel_Type Transmission  \\\n",
              "0   Maruti      Mumbai  2010              72000       CNG       Manual   \n",
              "1  Hyundai        Pune  2015              41000    Diesel       Manual   \n",
              "2    Honda     Chennai  2011              46000    Petrol       Manual   \n",
              "3   Maruti     Chennai  2012              87000    Diesel       Manual   \n",
              "4     Audi  Coimbatore  2013              40670    Diesel    Automatic   \n",
              "\n",
              "  Owner_Type  Mileage Engine  Power  Seats  Price  Car_age  \n",
              "0      First    26.60    998  58.16    5.0   1.75       10  \n",
              "1      First    19.67   1582  126.2    5.0  12.50        5  \n",
              "2      First    18.20   1199   88.7    5.0   4.50        9  \n",
              "3      First    20.77   1248  88.76    7.0   6.00        8  \n",
              "4     Second    15.20   1968  140.8    5.0  17.74        7  "
            ]
          },
          "execution_count": 323,
          "metadata": {},
          "output_type": "execute_result"
        }
      ],
      "source": [
        "train['Car_age'] = 2020 - train['Year']\n",
        "test['Car_age'] = 2020 - test['Year']\n",
        "train.head()"
      ]
    },
    {
      "cell_type": "markdown",
      "metadata": {
        "colab_type": "text",
        "id": "SrfV132u-XIK"
      },
      "source": [
        "#### Applying Log to the Price to normalise it"
      ]
    },
    {
      "cell_type": "code",
      "execution_count": 324,
      "metadata": {
        "colab": {},
        "colab_type": "code",
        "id": "3Pxl3chV-XIK",
        "trusted": true
      },
      "outputs": [],
      "source": [
        "train.Price = np.log1p(train.Price)"
      ]
    },
    {
      "cell_type": "markdown",
      "metadata": {
        "colab_type": "text",
        "id": "I_sbVo0o-XIN"
      },
      "source": [
        "#### Performing label encoding for categorical data"
      ]
    },
    {
      "cell_type": "code",
      "execution_count": 325,
      "metadata": {
        "colab": {},
        "colab_type": "code",
        "id": "TiKwkYNr-XIN",
        "trusted": true
      },
      "outputs": [],
      "source": [
        "from sklearn.preprocessing import LabelEncoder\n",
        "label_encoder = LabelEncoder()"
      ]
    },
    {
      "cell_type": "code",
      "execution_count": 326,
      "metadata": {
        "colab": {},
        "colab_type": "code",
        "id": "8NCCmamU-XIP",
        "outputId": "38186d23-d082-4d7a-c053-71ac6c58c5b0",
        "trusted": true
      },
      "outputs": [
        {
          "data": {
            "text/html": [
              "<div>\n",
              "<style scoped>\n",
              "    .dataframe tbody tr th:only-of-type {\n",
              "        vertical-align: middle;\n",
              "    }\n",
              "\n",
              "    .dataframe tbody tr th {\n",
              "        vertical-align: top;\n",
              "    }\n",
              "\n",
              "    .dataframe thead th {\n",
              "        text-align: right;\n",
              "    }\n",
              "</style>\n",
              "<table border=\"1\" class=\"dataframe\">\n",
              "  <thead>\n",
              "    <tr style=\"text-align: right;\">\n",
              "      <th></th>\n",
              "      <th>Name</th>\n",
              "      <th>Location</th>\n",
              "      <th>Year</th>\n",
              "      <th>Kilometers_Driven</th>\n",
              "      <th>Fuel_Type</th>\n",
              "      <th>Transmission</th>\n",
              "      <th>Owner_Type</th>\n",
              "      <th>Mileage</th>\n",
              "      <th>Engine</th>\n",
              "      <th>Power</th>\n",
              "      <th>Seats</th>\n",
              "      <th>Price</th>\n",
              "      <th>Car_age</th>\n",
              "    </tr>\n",
              "  </thead>\n",
              "  <tbody>\n",
              "    <tr>\n",
              "      <th>0</th>\n",
              "      <td>12</td>\n",
              "      <td>9</td>\n",
              "      <td>2010</td>\n",
              "      <td>72000</td>\n",
              "      <td>0</td>\n",
              "      <td>1</td>\n",
              "      <td>0</td>\n",
              "      <td>26.60</td>\n",
              "      <td>998</td>\n",
              "      <td>58.16</td>\n",
              "      <td>5.0</td>\n",
              "      <td>1.011601</td>\n",
              "      <td>10</td>\n",
              "    </tr>\n",
              "    <tr>\n",
              "      <th>1</th>\n",
              "      <td>7</td>\n",
              "      <td>10</td>\n",
              "      <td>2015</td>\n",
              "      <td>41000</td>\n",
              "      <td>1</td>\n",
              "      <td>1</td>\n",
              "      <td>0</td>\n",
              "      <td>19.67</td>\n",
              "      <td>1582</td>\n",
              "      <td>126.2</td>\n",
              "      <td>5.0</td>\n",
              "      <td>2.602690</td>\n",
              "      <td>5</td>\n",
              "    </tr>\n",
              "    <tr>\n",
              "      <th>2</th>\n",
              "      <td>6</td>\n",
              "      <td>2</td>\n",
              "      <td>2011</td>\n",
              "      <td>46000</td>\n",
              "      <td>3</td>\n",
              "      <td>1</td>\n",
              "      <td>0</td>\n",
              "      <td>18.20</td>\n",
              "      <td>1199</td>\n",
              "      <td>88.7</td>\n",
              "      <td>5.0</td>\n",
              "      <td>1.704748</td>\n",
              "      <td>9</td>\n",
              "    </tr>\n",
              "    <tr>\n",
              "      <th>3</th>\n",
              "      <td>12</td>\n",
              "      <td>2</td>\n",
              "      <td>2012</td>\n",
              "      <td>87000</td>\n",
              "      <td>1</td>\n",
              "      <td>1</td>\n",
              "      <td>0</td>\n",
              "      <td>20.77</td>\n",
              "      <td>1248</td>\n",
              "      <td>88.76</td>\n",
              "      <td>7.0</td>\n",
              "      <td>1.945910</td>\n",
              "      <td>8</td>\n",
              "    </tr>\n",
              "    <tr>\n",
              "      <th>4</th>\n",
              "      <td>0</td>\n",
              "      <td>3</td>\n",
              "      <td>2013</td>\n",
              "      <td>40670</td>\n",
              "      <td>1</td>\n",
              "      <td>0</td>\n",
              "      <td>2</td>\n",
              "      <td>15.20</td>\n",
              "      <td>1968</td>\n",
              "      <td>140.8</td>\n",
              "      <td>5.0</td>\n",
              "      <td>2.930660</td>\n",
              "      <td>7</td>\n",
              "    </tr>\n",
              "  </tbody>\n",
              "</table>\n",
              "</div>"
            ],
            "text/plain": [
              "   Name  Location  Year  Kilometers_Driven  Fuel_Type  Transmission  \\\n",
              "0    12         9  2010              72000          0             1   \n",
              "1     7        10  2015              41000          1             1   \n",
              "2     6         2  2011              46000          3             1   \n",
              "3    12         2  2012              87000          1             1   \n",
              "4     0         3  2013              40670          1             0   \n",
              "\n",
              "   Owner_Type  Mileage Engine  Power  Seats     Price  Car_age  \n",
              "0           0    26.60    998  58.16    5.0  1.011601       10  \n",
              "1           0    19.67   1582  126.2    5.0  2.602690        5  \n",
              "2           0    18.20   1199   88.7    5.0  1.704748        9  \n",
              "3           0    20.77   1248  88.76    7.0  1.945910        8  \n",
              "4           2    15.20   1968  140.8    5.0  2.930660        7  "
            ]
          },
          "execution_count": 326,
          "metadata": {},
          "output_type": "execute_result"
        }
      ],
      "source": [
        "allowed_names = train['Name'].unique()\n",
        "allowed_locations = train['Location'].unique()\n",
        "allowed_fuel_types = train['Fuel_Type'].unique()\n",
        "allowed_transmissions = train['Transmission'].unique()\n",
        "allowed_owner_types = train['Owner_Type'].unique()\n",
        "\n",
        "train['Name'] = label_encoder.fit_transform(train['Name'])\n",
        "name_mapping = dict(zip(label_encoder.classes_, label_encoder.transform(label_encoder.classes_)))\n",
        "\n",
        "train['Location'] = label_encoder.fit_transform(train['Location'])\n",
        "location_mapping = dict(zip(label_encoder.classes_, label_encoder.transform(label_encoder.classes_)))\n",
        "\n",
        "train['Fuel_Type'] = label_encoder.fit_transform(train['Fuel_Type'])\n",
        "fuel_type_mapping = dict(zip(label_encoder.classes_, label_encoder.transform(label_encoder.classes_)))\n",
        "\n",
        "train['Transmission'] = label_encoder.fit_transform(train['Transmission'])\n",
        "transmission_mapping = dict(zip(label_encoder.classes_, label_encoder.transform(label_encoder.classes_)))\n",
        "\n",
        "train['Owner_Type'] = label_encoder.fit_transform(train['Owner_Type'])\n",
        "owner_type_mapping = dict(zip(label_encoder.classes_, label_encoder.transform(label_encoder.classes_)))\n",
        "\n",
        "\n",
        "test['Name'] = label_encoder.fit_transform(test['Name'])\n",
        "test['Location'] = label_encoder.fit_transform(test['Location'])\n",
        "test['Fuel_Type'] = label_encoder.fit_transform(test['Fuel_Type'])\n",
        "test['Transmission'] = label_encoder.fit_transform(test['Transmission'])\n",
        "test['Owner_Type'] = label_encoder.fit_transform(test['Owner_Type'])\n",
        "\n",
        "train.head()"
      ]
    },
    {
      "cell_type": "markdown",
      "metadata": {
        "colab_type": "text",
        "id": "hfoVTM7d-XIS"
      },
      "source": [
        "#### Dealing with missing values "
      ]
    },
    {
      "cell_type": "code",
      "execution_count": 327,
      "metadata": {
        "colab": {},
        "colab_type": "code",
        "id": "OyBCzfWo-XIS",
        "outputId": "cdc67261-1fdc-4012-ac58-6a2b834addc0",
        "trusted": true
      },
      "outputs": [
        {
          "data": {
            "text/plain": [
              "Name                  0\n",
              "Location              0\n",
              "Year                  0\n",
              "Kilometers_Driven     0\n",
              "Fuel_Type             0\n",
              "Transmission          0\n",
              "Owner_Type            0\n",
              "Mileage               0\n",
              "Engine               36\n",
              "Power                36\n",
              "Seats                42\n",
              "Price                 0\n",
              "Car_age               0\n",
              "dtype: int64"
            ]
          },
          "execution_count": 327,
          "metadata": {},
          "output_type": "execute_result"
        }
      ],
      "source": [
        "train.isnull().sum()"
      ]
    },
    {
      "cell_type": "code",
      "execution_count": 328,
      "metadata": {
        "colab": {},
        "colab_type": "code",
        "id": "qxII0CbC-XIU",
        "outputId": "4b90c3ea-4520-43ff-d847-0289ae0558b1",
        "trusted": true
      },
      "outputs": [
        {
          "data": {
            "text/plain": [
              "Name                   int32\n",
              "Location               int32\n",
              "Year                   int64\n",
              "Kilometers_Driven      int64\n",
              "Fuel_Type              int32\n",
              "Transmission           int32\n",
              "Owner_Type             int32\n",
              "Mileage              float64\n",
              "Engine                object\n",
              "Power                 object\n",
              "Seats                float64\n",
              "Price                float64\n",
              "Car_age                int64\n",
              "dtype: object"
            ]
          },
          "execution_count": 328,
          "metadata": {},
          "output_type": "execute_result"
        }
      ],
      "source": [
        "train.dtypes"
      ]
    },
    {
      "cell_type": "code",
      "execution_count": 329,
      "metadata": {
        "colab": {},
        "colab_type": "code",
        "id": "zdQoU0Jh-XIW",
        "trusted": true
      },
      "outputs": [],
      "source": [
        "train.Engine = pd.to_numeric(train.Engine, errors='coerce')\n",
        "train.Power = pd.to_numeric(train.Power, errors='coerce')\n",
        "test.Engine = pd.to_numeric(test.Engine, errors='coerce')\n",
        "test.Power = pd.to_numeric(test.Power, errors='coerce')"
      ]
    },
    {
      "cell_type": "code",
      "execution_count": 330,
      "metadata": {
        "colab": {},
        "colab_type": "code",
        "id": "laeL29BD-XIY",
        "trusted": true
      },
      "outputs": [],
      "source": [
        "from sklearn.impute import SimpleImputer\n",
        "imputer = SimpleImputer(missing_values = np.nan, strategy ='mean')\n",
        "train[[\"Engine\", \"Power\", \"Seats\"]] = imputer.fit_transform(train[[\"Engine\", \"Power\", \"Seats\"]])\n",
        "test[[\"Engine\", \"Power\", \"Seats\"]] = imputer.fit_transform(test[[\"Engine\", \"Power\", \"Seats\"]])\n"
      ]
    },
    {
      "cell_type": "code",
      "execution_count": 331,
      "metadata": {
        "colab": {},
        "colab_type": "code",
        "id": "7sC28DOC-XIa",
        "outputId": "794b8cbf-e453-4af4-f1aa-0bc5c92bce46",
        "trusted": true
      },
      "outputs": [
        {
          "data": {
            "text/plain": [
              "Name                 0\n",
              "Location             0\n",
              "Year                 0\n",
              "Kilometers_Driven    0\n",
              "Fuel_Type            0\n",
              "Transmission         0\n",
              "Owner_Type           0\n",
              "Mileage              0\n",
              "Engine               0\n",
              "Power                0\n",
              "Seats                0\n",
              "Price                0\n",
              "Car_age              0\n",
              "dtype: int64"
            ]
          },
          "execution_count": 331,
          "metadata": {},
          "output_type": "execute_result"
        }
      ],
      "source": [
        "train.isnull().sum()"
      ]
    },
    {
      "cell_type": "markdown",
      "metadata": {
        "colab_type": "text",
        "id": "MR-actm9-XId"
      },
      "source": [
        "#### The data now has no missing values"
      ]
    },
    {
      "cell_type": "markdown",
      "metadata": {
        "colab_type": "text",
        "id": "ZtHPHW40-XIe"
      },
      "source": [
        "## Applying ML models"
      ]
    },
    {
      "cell_type": "code",
      "execution_count": 332,
      "metadata": {
        "colab": {},
        "colab_type": "code",
        "id": "Li7BrnA0-XIe",
        "trusted": true
      },
      "outputs": [],
      "source": [
        "y = train.Price\n",
        "X = train.drop(['Price'],axis=1)"
      ]
    },
    {
      "cell_type": "code",
      "execution_count": 333,
      "metadata": {
        "colab": {},
        "colab_type": "code",
        "id": "y4qzjE5X-XIh",
        "trusted": true
      },
      "outputs": [],
      "source": [
        "from sklearn.model_selection import train_test_split\n",
        "X_train, X_valid, y_train, y_valid = train_test_split(X,y,test_size=0.2)"
      ]
    },
    {
      "cell_type": "markdown",
      "metadata": {
        "colab_type": "text",
        "id": "Wa3ao1St-XIj"
      },
      "source": [
        "### 1. Linear Regression"
      ]
    },
    {
      "cell_type": "code",
      "execution_count": 334,
      "metadata": {
        "colab": {},
        "colab_type": "code",
        "id": "IULzvtK6-XIj",
        "trusted": true
      },
      "outputs": [],
      "source": [
        "from sklearn.linear_model import LinearRegression\n",
        "\n",
        "model1 = LinearRegression() \n",
        "model1.fit(X_train, y_train) \n",
        "\n",
        "y_pred = model1.predict(X_valid) "
      ]
    },
    {
      "cell_type": "code",
      "execution_count": 335,
      "metadata": {
        "colab": {},
        "colab_type": "code",
        "id": "HQi5-eei-XIm",
        "outputId": "0a166eb6-5391-41a1-8203-27f72ffcfcaa",
        "trusted": true
      },
      "outputs": [
        {
          "name": "stdout",
          "output_type": "stream",
          "text": [
            "Mean Absolute Error: 0.19987041182409349\n",
            "Mean Squared Error: 0.06736320406573448\n",
            "Root Mean Squared Error: 0.25954422371868435\n",
            "R2 score : 0.881247\n"
          ]
        }
      ],
      "source": [
        "from sklearn import metrics\n",
        "from sklearn.metrics import r2_score\n",
        "\n",
        "print('Mean Absolute Error:', metrics.mean_absolute_error(y_valid, y_pred))\n",
        "print('Mean Squared Error:', metrics.mean_squared_error(y_valid, y_pred))\n",
        "print('Root Mean Squared Error:', np.sqrt(metrics.mean_squared_error(y_valid, y_pred)))\n",
        "print(\"R2 score : %f\" % r2_score(y_valid,y_pred))"
      ]
    },
    {
      "cell_type": "markdown",
      "metadata": {
        "colab_type": "text",
        "id": "98qqSlek-XIo"
      },
      "source": [
        "### 2. Random Forest Regressor"
      ]
    },
    {
      "cell_type": "code",
      "execution_count": 336,
      "metadata": {
        "colab": {},
        "colab_type": "code",
        "id": "xgsN-4b_-XIp",
        "trusted": true
      },
      "outputs": [],
      "source": [
        "from sklearn.ensemble import RandomForestRegressor\n",
        "\n",
        "model2 = RandomForestRegressor(n_estimators=200)\n",
        "model2.fit(X_train, y_train)\n",
        "y_pred2 = model2.predict(X_valid)"
      ]
    },
    {
      "cell_type": "code",
      "execution_count": 337,
      "metadata": {
        "colab": {},
        "colab_type": "code",
        "id": "_rvN7dcC-XIr",
        "outputId": "f0f31a31-10d2-4816-93e3-3d7ea43720a9",
        "trusted": true
      },
      "outputs": [
        {
          "name": "stdout",
          "output_type": "stream",
          "text": [
            "Mean Absolute Error: 0.1259535213903282\n",
            "Mean Squared Error: 0.029838162416090868\n",
            "Root Mean Squared Error: 0.17273726412123955\n",
            "R2 score : 0.947399\n"
          ]
        }
      ],
      "source": [
        "print('Mean Absolute Error:', metrics.mean_absolute_error(y_valid, y_pred2))\n",
        "print('Mean Squared Error:', metrics.mean_squared_error(y_valid, y_pred2))\n",
        "print('Root Mean Squared Error:', np.sqrt(metrics.mean_squared_error(y_valid, y_pred2)))\n",
        "print(\"R2 score : %f\" % r2_score(y_valid,y_pred2))"
      ]
    },
    {
      "cell_type": "markdown",
      "metadata": {
        "colab_type": "text",
        "id": "vMyJMxxq-XIt"
      },
      "source": [
        "### 3. XGBoost Regressor"
      ]
    },
    {
      "cell_type": "code",
      "execution_count": 338,
      "metadata": {
        "colab": {},
        "colab_type": "code",
        "id": "9b1uJc4G-XIu",
        "trusted": true
      },
      "outputs": [
        {
          "name": "stderr",
          "output_type": "stream",
          "text": [
            "c:\\Users\\efara\\OneDrive\\Desktop\\New folder\\.venv\\Lib\\site-packages\\xgboost\\sklearn.py:889: UserWarning: `early_stopping_rounds` in `fit` method is deprecated for better compatibility with scikit-learn, use `early_stopping_rounds` in constructor or`set_params` instead.\n",
            "  warnings.warn(\n"
          ]
        }
      ],
      "source": [
        "from xgboost import XGBRegressor\n",
        "\n",
        "model3 = XGBRegressor(n_estimators=1000, learning_rate=0.05)\n",
        "model3.fit(X_train, y_train, early_stopping_rounds=5, eval_set=[(X_valid, y_valid)], verbose=False)\n",
        "y_pred3 = model3.predict(X_valid)"
      ]
    },
    {
      "cell_type": "code",
      "execution_count": 339,
      "metadata": {
        "colab": {},
        "colab_type": "code",
        "id": "-p5rfAOE-XIw",
        "outputId": "b9d4a994-0035-48d6-a59c-d2479bd80f13",
        "trusted": true
      },
      "outputs": [
        {
          "name": "stdout",
          "output_type": "stream",
          "text": [
            "Mean Absolute Error: 0.10577805849608796\n",
            "Mean Squared Error: 0.021883570902658064\n",
            "Root Mean Squared Error: 0.14793096667925235\n",
            "R2 score : 0.961422\n"
          ]
        }
      ],
      "source": [
        "print('Mean Absolute Error:', metrics.mean_absolute_error(y_valid, y_pred3))\n",
        "print('Mean Squared Error:', metrics.mean_squared_error(y_valid, y_pred3))\n",
        "print('Root Mean Squared Error:', np.sqrt(metrics.mean_squared_error(y_valid, y_pred3)))\n",
        "print(\"R2 score : %f\" % r2_score(y_valid,y_pred3))"
      ]
    },
    {
      "cell_type": "markdown",
      "metadata": {
        "colab_type": "text",
        "id": "yHxHOhLd-XIz"
      },
      "source": [
        "### 4. Ridge Regressor"
      ]
    },
    {
      "cell_type": "code",
      "execution_count": 340,
      "metadata": {
        "colab": {},
        "colab_type": "code",
        "id": "QLZ_X1HE-XIz",
        "trusted": true
      },
      "outputs": [],
      "source": [
        "from sklearn.linear_model import Ridge\n",
        "\n",
        "model4 = Ridge(alpha=1.0)\n",
        "model4.fit(X_train, y_train)\n",
        "y_pred4 = model4.predict(X_valid)"
      ]
    },
    {
      "cell_type": "code",
      "execution_count": 341,
      "metadata": {
        "colab": {},
        "colab_type": "code",
        "id": "_tdBieHu-XI1",
        "outputId": "5e832eff-77f1-4208-a8c7-870996c293df",
        "trusted": true
      },
      "outputs": [
        {
          "name": "stdout",
          "output_type": "stream",
          "text": [
            "Mean Absolute Error: 0.199866299277636\n",
            "Mean Squared Error: 0.06736882072416768\n",
            "Root Mean Squared Error: 0.25955504372708244\n",
            "R2 score : 0.881237\n"
          ]
        }
      ],
      "source": [
        "print('Mean Absolute Error:', metrics.mean_absolute_error(y_valid, y_pred4))\n",
        "print('Mean Squared Error:', metrics.mean_squared_error(y_valid, y_pred4))\n",
        "print('Root Mean Squared Error:', np.sqrt(metrics.mean_squared_error(y_valid, y_pred4)))\n",
        "print(\"R2 score : %f\" % r2_score(y_valid,y_pred4))"
      ]
    },
    {
      "cell_type": "markdown",
      "metadata": {
        "colab_type": "text",
        "id": "QkE9as8t-XI3"
      },
      "source": [
        "### 5. Lasso Regressor\n"
      ]
    },
    {
      "cell_type": "code",
      "execution_count": 342,
      "metadata": {
        "colab": {},
        "colab_type": "code",
        "id": "wWKVtCh_-XI3",
        "trusted": true
      },
      "outputs": [],
      "source": [
        "from sklearn.linear_model import Lasso\n",
        "\n",
        "model5 = Lasso(alpha=1.0)\n",
        "model5.fit(X_train, y_train)\n",
        "y_pred5 = model5.predict(X_valid)"
      ]
    },
    {
      "cell_type": "code",
      "execution_count": 343,
      "metadata": {
        "colab": {},
        "colab_type": "code",
        "id": "y6bZAo_F-XI5",
        "outputId": "6f2a4e9d-9cd3-4d61-ceee-c21389c6dbca",
        "trusted": true
      },
      "outputs": [
        {
          "name": "stdout",
          "output_type": "stream",
          "text": [
            "Mean Absolute Error: 0.33241133566783787\n",
            "Mean Squared Error: 0.18868379216820616\n",
            "Root Mean Squared Error: 0.43437747658943615\n",
            "R2 score : 0.667373\n"
          ]
        }
      ],
      "source": [
        "print('Mean Absolute Error:', metrics.mean_absolute_error(y_valid, y_pred5))\n",
        "print('Mean Squared Error:', metrics.mean_squared_error(y_valid, y_pred5))\n",
        "print('Root Mean Squared Error:', np.sqrt(metrics.mean_squared_error(y_valid, y_pred5)))\n",
        "print(\"R2 score : %f\" % r2_score(y_valid,y_pred5))"
      ]
    },
    {
      "cell_type": "markdown",
      "metadata": {
        "colab_type": "text",
        "id": "vK5_Wwa8-XI7"
      },
      "source": [
        "### XGBoost Regressor has the best performance among the regressors chosen. So choosing XGBoost for prediciton on test values."
      ]
    },
    {
      "cell_type": "code",
      "execution_count": 344,
      "metadata": {
        "colab": {},
        "colab_type": "code",
        "id": "8kb5av34-XI8",
        "outputId": "3c8dc910-3d18-49b9-d264-e924d3e0477a",
        "trusted": true
      },
      "outputs": [
        {
          "data": {
            "text/plain": [
              "numpy.ndarray"
            ]
          },
          "execution_count": 344,
          "metadata": {},
          "output_type": "execute_result"
        }
      ],
      "source": [
        "final_test_predictions = model3.predict(test)\n",
        "final_test_predictions = np.exp(final_test_predictions)-1 #converting target to original state\n",
        "type(final_test_predictions)"
      ]
    },
    {
      "cell_type": "markdown",
      "metadata": {
        "colab_type": "text",
        "id": "oxV5AFXj-XI_"
      },
      "source": [
        "### Exporting the predictions to the test dataset"
      ]
    },
    {
      "cell_type": "code",
      "execution_count": 345,
      "metadata": {
        "colab": {},
        "colab_type": "code",
        "id": "bs5ef4KK-XJD",
        "trusted": true
      },
      "outputs": [],
      "source": [
        "test['Price'] = pd.Series(final_test_predictions)"
      ]
    },
    {
      "cell_type": "code",
      "execution_count": 346,
      "metadata": {
        "colab": {},
        "colab_type": "code",
        "id": "VGz0b18M-XJF",
        "trusted": true
      },
      "outputs": [],
      "source": [
        "test.to_csv('predictions.csv', index=False)"
      ]
    },
    {
      "cell_type": "markdown",
      "metadata": {},
      "source": [
        "### Exporting the model as a .pkl"
      ]
    },
    {
      "cell_type": "code",
      "execution_count": 347,
      "metadata": {},
      "outputs": [],
      "source": [
        "# export the model as a pickle file\n",
        "\n",
        "import pickle\n",
        "with open('model.pkl', 'wb') as file:\n",
        "    pickle.dump(model3, file)"
      ]
    },
    {
      "cell_type": "code",
      "execution_count": 357,
      "metadata": {},
      "outputs": [
        {
          "name": "stdout",
          "output_type": "stream",
          "text": [
            "allowed_names: ['Maruti' 'Hyundai' 'Honda' 'Audi' 'Nissan' 'Toyota' 'Volkswagen' 'Tata'\n",
            " 'Land' 'Mitsubishi' 'Renault' 'Mercedes-Benz' 'BMW' 'Mahindra' 'Ford'\n",
            " 'Porsche' 'Datsun' 'Jaguar' 'Volvo' 'Chevrolet' 'Skoda' 'Mini' 'Fiat'\n",
            " 'Jeep']\n",
            "allowed_locations: ['Mumbai' 'Pune' 'Chennai' 'Coimbatore' 'Hyderabad' 'Jaipur' 'Kochi'\n",
            " 'Kolkata' 'Delhi' 'Bangalore' 'Ahmedabad']\n",
            "allowed_fuel_types: ['CNG' 'Diesel' 'Petrol' 'LPG']\n",
            "allowed_transmissions: ['Manual' 'Automatic']\n",
            "allowed_owner_types: ['First' 'Second' 'Fourth & Above' 'Third']\n",
            "name_mapping: {'Audi': 0, 'BMW': 1, 'Chevrolet': 2, 'Datsun': 3, 'Fiat': 4, 'Ford': 5, 'Honda': 6, 'Hyundai': 7, 'Jaguar': 8, 'Jeep': 9, 'Land': 10, 'Mahindra': 11, 'Maruti': 12, 'Mercedes-Benz': 13, 'Mini': 14, 'Mitsubishi': 15, 'Nissan': 16, 'Porsche': 17, 'Renault': 18, 'Skoda': 19, 'Tata': 20, 'Toyota': 21, 'Volkswagen': 22, 'Volvo': 23}\n",
            "location_mapping: {'Ahmedabad': 0, 'Bangalore': 1, 'Chennai': 2, 'Coimbatore': 3, 'Delhi': 4, 'Hyderabad': 5, 'Jaipur': 6, 'Kochi': 7, 'Kolkata': 8, 'Mumbai': 9, 'Pune': 10}\n",
            "fuel_type_mapping: {'CNG': 0, 'Diesel': 1, 'LPG': 2, 'Petrol': 3}\n",
            "transmission_mapping: {'Automatic': 0, 'Manual': 1}\n",
            "owner_type_mapping: {'First': 0, 'Fourth & Above': 1, 'Second': 2, 'Third': 3}\n",
            "328755.90324401855\n"
          ]
        }
      ],
      "source": [
        "print(\"allowed_names:\", allowed_names)\n",
        "print(\"allowed_locations:\", allowed_locations)\n",
        "print(\"allowed_fuel_types:\", allowed_fuel_types)\n",
        "print(\"allowed_transmissions:\", allowed_transmissions)\n",
        "print(\"allowed_owner_types:\", allowed_owner_types)\n",
        "\n",
        "\n",
        "print(\"name_mapping:\", name_mapping)\n",
        "print(\"location_mapping:\", location_mapping)\n",
        "print(\"fuel_type_mapping:\", fuel_type_mapping)\n",
        "print(\"transmission_mapping:\", transmission_mapping)\n",
        "print(\"owner_type_mapping:\", owner_type_mapping)\n",
        "\n",
        "# use the model to make predictions\n",
        "with open(\"model.pkl\", \"rb\") as file:\n",
        "    model = pickle.load(file)\n",
        "\n",
        "\n",
        "# function to make predictions\n",
        "def predict_price(\n",
        "    name,\n",
        "    location,\n",
        "    year,\n",
        "    kilometers_driven,\n",
        "    fuel_type,\n",
        "    transmission,\n",
        "    owner_type,\n",
        "    mileage,\n",
        "    engine,\n",
        "    power,\n",
        "    seats,\n",
        "    car_age,\n",
        "):\n",
        "    name = name_mapping[name]\n",
        "    location = location_mapping[location]\n",
        "    fuel_type = fuel_type_mapping[fuel_type]\n",
        "    transmission = transmission_mapping[transmission]\n",
        "    owner_type = owner_type_mapping[owner_type]\n",
        "\n",
        "    data = [\n",
        "        [\n",
        "            name,\n",
        "            location,\n",
        "            year,\n",
        "            kilometers_driven,\n",
        "            fuel_type,\n",
        "            transmission,\n",
        "            owner_type,\n",
        "            mileage,\n",
        "            engine,\n",
        "            power,\n",
        "            seats,\n",
        "            car_age,\n",
        "        ]\n",
        "    ]\n",
        "    prediction = model.predict(data)\n",
        "    return prediction[0]\n",
        "\n",
        "\n",
        "# test the function\n",
        "predicted_price = predict_price(\n",
        "    \"Maruti\", \"Mumbai\", 2015, 10000, \"Petrol\", \"Manual\", \"First\", 25.0, 998, 58.2, 5, 5\n",
        ")\n",
        "\n",
        "# train.Price = np.log1p(train.Price)\n",
        "\n",
        "# scale the price back to original scale\n",
        "predicted_price = np.expm1(predicted_price)\n",
        "\n",
        "# predicted_price is in lakhs so multiply by 100000\n",
        "predicted_price = predicted_price * 100000\n",
        "\n",
        "print(predicted_price)"
      ]
    }
  ],
  "metadata": {
    "colab": {
      "name": "predictingCarPrices (1).ipynb",
      "provenance": []
    },
    "kernelspec": {
      "display_name": "Python 3",
      "language": "python",
      "name": "python3"
    },
    "language_info": {
      "codemirror_mode": {
        "name": "ipython",
        "version": 3
      },
      "file_extension": ".py",
      "mimetype": "text/x-python",
      "name": "python",
      "nbconvert_exporter": "python",
      "pygments_lexer": "ipython3",
      "version": "3.11.8"
    }
  },
  "nbformat": 4,
  "nbformat_minor": 0
}
