{
 "cells": [
  {
   "cell_type": "markdown",
   "id": "cb020b54",
   "metadata": {},
   "source": [
    "# Exploratory Data Analysis"
   ]
  },
  {
   "cell_type": "markdown",
   "id": "e1beed55",
   "metadata": {},
   "source": [
    "## Dataset Overview"
   ]
  },
  {
   "cell_type": "code",
   "execution_count": null,
   "id": "a3419d97",
   "metadata": {},
   "outputs": [
    {
     "ename": "",
     "evalue": "",
     "output_type": "error",
     "traceback": [
      "\u001b[1;31mFailed to start the Kernel. \n",
      "\u001b[1;31mUnable to start Kernel 'Python 3.10.0' due to a timeout waiting for the ports to get used. \n",
      "\u001b[1;31mView Jupyter <a href='command:jupyter.viewOutput'>log</a> for further details."
     ]
    }
   ],
   "source": [
    "%pip install pandas matplotlib seaborn"
   ]
  },
  {
   "cell_type": "code",
   "execution_count": null,
   "id": "d4b751bf",
   "metadata": {},
   "outputs": [
    {
     "ename": "",
     "evalue": "",
     "output_type": "error",
     "traceback": [
      "\u001b[1;31mFailed to start the Kernel. \n",
      "\u001b[1;31mUnable to start Kernel 'Python 3.10.0' due to a timeout waiting for the ports to get used. \n",
      "\u001b[1;31mView Jupyter <a href='command:jupyter.viewOutput'>log</a> for further details."
     ]
    }
   ],
   "source": [
    "import pandas as pd\n",
    "data = pd.read_csv('Data_Train.csv')\n",
    "data.head()"
   ]
  },
  {
   "cell_type": "markdown",
   "id": "89dd765a",
   "metadata": {},
   "source": [
    "## Data Summary"
   ]
  },
  {
   "cell_type": "code",
   "execution_count": null,
   "id": "b39fd76f",
   "metadata": {},
   "outputs": [
    {
     "ename": "",
     "evalue": "",
     "output_type": "error",
     "traceback": [
      "\u001b[1;31mFailed to start the Kernel. \n",
      "\u001b[1;31mUnable to start Kernel 'Python 3.10.0' due to a timeout waiting for the ports to get used. \n",
      "\u001b[1;31mView Jupyter <a href='command:jupyter.viewOutput'>log</a> for further details."
     ]
    }
   ],
   "source": [
    "# Data types of columns\n",
    "print(f\"Data types of data columns: \\n{data.dtypes}\")"
   ]
  },
  {
   "cell_type": "code",
   "execution_count": null,
   "id": "9ba0619e",
   "metadata": {},
   "outputs": [
    {
     "ename": "",
     "evalue": "",
     "output_type": "error",
     "traceback": [
      "\u001b[1;31mFailed to start the Kernel. \n",
      "\u001b[1;31mUnable to start Kernel 'Python 3.10.0' due to a timeout waiting for the ports to get used. \n",
      "\u001b[1;31mView Jupyter <a href='command:jupyter.viewOutput'>log</a> for further details."
     ]
    }
   ],
   "source": [
    "data.describe()"
   ]
  },
  {
   "cell_type": "markdown",
   "id": "898e2383",
   "metadata": {},
   "source": [
    "## Data Visualizations"
   ]
  },
  {
   "cell_type": "code",
   "execution_count": null,
   "id": "0b2fc371",
   "metadata": {},
   "outputs": [
    {
     "ename": "",
     "evalue": "",
     "output_type": "error",
     "traceback": [
      "\u001b[1;31mFailed to start the Kernel. \n",
      "\u001b[1;31mUnable to start Kernel 'Python 3.10.0' due to a timeout waiting for the ports to get used. \n",
      "\u001b[1;31mView Jupyter <a href='command:jupyter.viewOutput'>log</a> for further details."
     ]
    }
   ],
   "source": [
    "\n",
    "import seaborn as sns\n",
    "import matplotlib.pyplot as plt\n",
    "\n",
    "# Create a figure to hold the visualizations\n",
    "fig, axes = plt.subplots(6, 1, figsize=(10, 30))\n",
    "\n",
    "# Histogram of Price\n",
    "sns.histplot(data=data, x='Price', kde=True, ax=axes[0])\n",
    "axes[0].set_title('Distribution of Price')\n",
    "\n",
    "# Histogram of Kilometers Driven\n",
    "sns.histplot(data=data, x='Kilometers_Driven', kde=True, ax=axes[1])\n",
    "axes[1].set_title('Distribution of Kilometers Driven')\n",
    "\n",
    "# Boxplot of Price vs Fuel Type\n",
    "sns.boxplot(x='Fuel_Type', y='Price', data=data, ax=axes[2])\n",
    "axes[2].set_title('Price vs Fuel Type')\n",
    "\n",
    "# Scatterplot of Price vs Year\n",
    "sns.scatterplot(x='Year', y='Price', data=data, ax=axes[3])\n",
    "axes[3].set_title('Price vs Year')\n",
    "\n",
    "# Scatterplot of Price vs Engine Size\n",
    "sns.scatterplot(x='Engine', y='Price', data=data, ax=axes[4])\n",
    "axes[4].set_title('Price vs Engine Size')\n",
    "\n",
    "# Scatterplot of Price vs Power\n",
    "sns.scatterplot(x='Power', y='Price', data=data, ax=axes[5])\n",
    "axes[5].set_title('Price vs Power')\n",
    "\n",
    "# Adjust the spacing between subplots\n",
    "plt.tight_layout()\n",
    "\n",
    "\n",
    "\n",
    "# export a4 size images in landscape mode\n",
    "plt.savefig('output.png', dpi=300, orientation='landscape')\n",
    "\n",
    "# Show the individual graphs\n",
    "plt.show()\n"
   ]
  },
  {
   "cell_type": "code",
   "execution_count": null,
   "id": "ec0a55a3",
   "metadata": {},
   "outputs": [
    {
     "ename": "",
     "evalue": "",
     "output_type": "error",
     "traceback": [
      "\u001b[1;31mFailed to start the Kernel. \n",
      "\u001b[1;31mUnable to start Kernel 'Python 3.10.0' due to a timeout waiting for the ports to get used. \n",
      "\u001b[1;31mView Jupyter <a href='command:jupyter.viewOutput'>log</a> for further details."
     ]
    }
   ],
   "source": [
    "import matplotlib.pyplot as plt\n",
    "import seaborn as sns\n",
    "\n",
    "# Set the aesthetics for the plots\n",
    "sns.set(style=\"whitegrid\")\n",
    "\n",
    "# Create a figure to hold the visualizations\n",
    "fig, axes = plt.subplots(3, 2, figsize=(14, 18))\n",
    "\n",
    "# Histogram of Price\n",
    "sns.histplot(data=data, x='Price', kde=True, ax=axes[0, 0])\n",
    "axes[0, 0].set_title('Distribution of Price')\n",
    "\n",
    "# Histogram of Kilometers Driven\n",
    "sns.histplot(data=data, x='Kilometers_Driven', kde=True, ax=axes[0, 1])\n",
    "axes[0, 1].set_title('Distribution of Kilometers Driven')\n",
    "\n",
    "# Boxplot of Price vs Fuel Type\n",
    "sns.boxplot(x='Fuel_Type', y='Price', data=data, ax=axes[1, 0])\n",
    "axes[1, 0].set_title('Price vs Fuel Type')\n",
    "\n",
    "# Scatterplot of Price vs Year\n",
    "sns.scatterplot(x='Year', y='Price', data=data, ax=axes[1, 1])\n",
    "axes[1, 1].set_title('Price vs Year')\n",
    "\n",
    "# Scatterplot of Price vs Engine Size\n",
    "sns.scatterplot(x='Engine', y='Price', data=data, ax=axes[2, 0])\n",
    "axes[2, 0].set_title('Price vs Engine Size')\n",
    "\n",
    "# Scatterplot of Price vs Power\n",
    "sns.scatterplot(x='Power', y='Price', data=data, ax=axes[2, 1])\n",
    "axes[2, 1].set_title('Price vs Power')\n",
    "\n",
    "plt.tight_layout()\n",
    "plt.show()\n"
   ]
  }
 ],
 "metadata": {
  "kernelspec": {
   "display_name": ".venv",
   "language": "python",
   "name": "python3"
  },
  "language_info": {
   "codemirror_mode": {
    "name": "ipython",
    "version": 3
   },
   "file_extension": ".py",
   "mimetype": "text/x-python",
   "name": "python",
   "nbconvert_exporter": "python",
   "pygments_lexer": "ipython3",
   "version": "3.10.0"
  }
 },
 "nbformat": 4,
 "nbformat_minor": 5
}
